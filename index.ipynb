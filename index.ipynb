{
 "cells": [
  {
   "cell_type": "markdown",
   "metadata": {},
   "source": [
    "# APIs - Cumulative Lab\n",
    "\n",
    "\n",
    "## Introduction \n",
    "\n",
    "We've seen how the Yelp API works and how to create basic visualizations using Folium. It's time to put those skills to work in order to create a working map! Taking things a step further, you'll also independently explore how to perform pagination in order to retrieve a full results set from the Yelp API.\n",
    "\n",
    "## Objectives\n",
    "\n",
    "You will be able to: \n",
    "\n",
    "* Practice using functions to organize your code\n",
    "* Use pagination to retrieve all results from an API query\n",
    "* Practice parsing data returned from an API query\n",
    "* Practice interpreting visualizations of a dataset\n",
    "* Create maps using Folium"
   ]
  },
  {
   "cell_type": "markdown",
   "metadata": {},
   "source": [
    "## Your Task: Query Yelp for All Businesses in a Category and Analyze the Results\n",
    "\n",
    "![restaurant counter with pizza](images/restaurant_counter.jpg)\n",
    "\n",
    "Photo by <a href=\"https://unsplash.com/@jordanmadrid?utm_source=unsplash&utm_medium=referral&utm_content=creditCopyText\">Jordan Madrid</a> on <a href=\"/s/photos/pizza-restaurant?utm_source=unsplash&utm_medium=referral&utm_content=creditCopyText\">Unsplash</a>"
   ]
  },
  {
   "cell_type": "markdown",
   "metadata": {},
   "source": [
    "### Overview\n",
    "\n",
    "You've now worked with some API calls, but we have yet to see how to retrieve a more complete dataset in a programmatic manner. In this lab, you will write a query of businesses on Yelp, then use *pagination* to retrieve all possible results for that query. Then you will create a summary of your findings, including a Folium map of the geographic locations of those businesses.\n",
    "\n",
    "### Technical Details\n",
    "\n",
    "Returning to the Yelp API, the [documentation](https://www.yelp.com/developers/documentation/v3/business_search) also provides us details regarding the **API limits**. These often include details about the number of requests a user is allowed to make within a specified time limit and the maximum number of results to be returned. In this case, we are told that any request has a **maximum of 50 results per request** and defaults to 20. Furthermore, any search will be limited to a **total of 1000 results**. To retrieve all 1000 of these results, we would have to page through the results piece by piece, retrieving 50 at a time. Processes such as these are often referred to as pagination.\n",
    "\n",
    "Also, be mindful of the **API** ***rate*** **limits**. You can only make **5000 requests per day** and are also can make requests too fast. Start prototyping small before running a loop that could be faulty. You can also use `time.sleep(n)` to add delays. For more details see https://www.yelp.com/developers/documentation/v3/rate_limiting.\n",
    "\n",
    "In this lab, you will define a search and then paginate over the results to retrieve all of the results. You'll then parse these responses as a list of dictionaries (for further exploration) and create a map using Folium to visualize the results geographically.\n",
    "\n",
    "### Requirements\n",
    "\n",
    "#### 1. Make the Initial Request\n",
    "\n",
    "Start by filling in your API key to make the initial request to the business search API. Investigate the structure of the response you get back and start figuring out how you will extract the relevant information.\n",
    "\n",
    "#### 2. Add Pagination\n",
    "\n",
    "Using loops and functions, collect the maximum number of results for your query from the API.\n",
    "\n",
    "#### 3. Perform Exploratory Analysis\n",
    "\n",
    "Interpret visualizations related to the price range, average rating, and number of reviews for all query results.\n",
    "\n",
    "#### 4. Create a Folium Map\n",
    "\n",
    "Using latitude and longitude data, plot the query results on an interactive map."
   ]
  },
  {
   "cell_type": "markdown",
   "metadata": {},
   "source": [
    "## 1. Make the Initial Request\n",
    "\n",
    "### Querying\n",
    "\n",
    "Start by making an initial request to the Yelp API. Your search must include at least 2 parameters: **term** and **location**. For example, you might search for pizza restaurants in NYC. The term and location is up to you but make the request below.\n",
    "\n",
    "Use the `requests` library ([documentation here](https://requests.readthedocs.io/en/master/user/quickstart/#make-a-request)).\n",
    "\n",
    "You'll also need an API key from Yelp. If you haven't done this already, go to the Yelp [Manage App page](https://www.yelp.com/developers/v3/manage_app) and create a new app (after making an account if you haven't already)."
   ]
  },
  {
   "cell_type": "code",
   "execution_count": 39,
   "metadata": {},
   "outputs": [
    {
     "ename": "TypeError",
     "evalue": "'NoneType' object is not subscriptable",
     "output_type": "error",
     "traceback": [
      "\u001b[0;31m---------------------------------------------------------------------------\u001b[0m",
      "\u001b[0;31mTypeError\u001b[0m                                 Traceback (most recent call last)",
      "\u001b[0;32m<ipython-input-39-5d1872f11fd3>\u001b[0m in \u001b[0;36m<module>\u001b[0;34m\u001b[0m\n\u001b[1;32m      8\u001b[0m \u001b[0mkeys\u001b[0m \u001b[0;34m=\u001b[0m \u001b[0;32mNone\u001b[0m\u001b[0;34m\u001b[0m\u001b[0;34m\u001b[0m\u001b[0m\n\u001b[1;32m      9\u001b[0m \u001b[0;34m\u001b[0m\u001b[0m\n\u001b[0;32m---> 10\u001b[0;31m \u001b[0mapi_key\u001b[0m \u001b[0;34m=\u001b[0m \u001b[0mkeys\u001b[0m\u001b[0;34m[\u001b[0m\u001b[0;34m'api_key'\u001b[0m\u001b[0;34m]\u001b[0m\u001b[0;34m\u001b[0m\u001b[0;34m\u001b[0m\u001b[0m\n\u001b[0m\u001b[1;32m     11\u001b[0m \u001b[0;31m# Import the requests library\u001b[0m\u001b[0;34m\u001b[0m\u001b[0;34m\u001b[0m\u001b[0;34m\u001b[0m\u001b[0m\n\u001b[1;32m     12\u001b[0m \u001b[0;32mimport\u001b[0m \u001b[0mrequests\u001b[0m\u001b[0;34m\u001b[0m\u001b[0;34m\u001b[0m\u001b[0m\n",
      "\u001b[0;31mTypeError\u001b[0m: 'NoneType' object is not subscriptable"
     ]
    }
   ],
   "source": [
    "# Replace None with appropriate code\n",
    "import json\n",
    "\n",
    "def get_keys(path):\n",
    "    with open(path) as f:\n",
    "        return json.load(f)\n",
    "\n",
    "keys = None\n",
    "\n",
    "api_key = keys['api_key']    \n",
    "# Import the requests library\n",
    "import requests\n",
    "\n",
    "# Get this from the \"Manage App\" page. Make sure you set them\n",
    "# back to None before pushing this to GitHub, since otherwise\n",
    "# your credentials will be compromised\n",
    "\n",
    "\n",
    "# These can be whatever you want! But the solution uses \"pizza\"\n",
    "# and \"New York NY\" if you want to compare your work directly\n",
    "term = 'pizza'\n",
    "location = 'New York NY'\n",
    "\n",
    "# Set up params for request\n",
    "url = \"https://api.yelp.com/v3/businesses/search\"\n",
    "headers = {\n",
    "    \"Authorization\": \"Bearer {}\".format(api_key)\n",
    "}\n",
    "url_params = {\n",
    "    \"term\": term.replace(\" \", \"+\"),\n",
    "    \"location\": location.replace(\" \", \"+\")\n",
    "}\n",
    "\n",
    "# Make the request using requests.get, passing in\n",
    "# url, headers=headers, and params=url_params\n",
    "response = requests.get(url, headers = headers, params = url_params)\n",
    "\n",
    "# Confirm we got a 200 response\n",
    "response.status_code"
   ]
  },
  {
   "cell_type": "code",
   "execution_count": 2,
   "metadata": {},
   "outputs": [
    {
     "data": {
      "text/plain": [
       "dict_keys(['businesses', 'total', 'region'])"
      ]
     },
     "execution_count": 2,
     "metadata": {},
     "output_type": "execute_result"
    }
   ],
   "source": [
    "# Run this cell without changes\n",
    "\n",
    "# Get the response body in JSON format\n",
    "response_json = response.json()\n",
    "# View the keys\n",
    "response_json.keys()"
   ]
  },
  {
   "cell_type": "markdown",
   "metadata": {},
   "source": [
    "### Extracting Data\n",
    "\n",
    "Now, retrieve the value associated with the `'businesses'` key, and inspect its contents."
   ]
  },
  {
   "cell_type": "code",
   "execution_count": 3,
   "metadata": {},
   "outputs": [
    {
     "data": {
      "text/plain": [
       "[{'id': 'zj8Lq1T8KIC5zwFief15jg',\n",
       "  'alias': 'prince-street-pizza-new-york-2',\n",
       "  'name': 'Prince Street Pizza',\n",
       "  'image_url': 'https://s3-media3.fl.yelpcdn.com/bphoto/ZAukOyv530w4KjOHC5YY1w/o.jpg',\n",
       "  'is_closed': False,\n",
       "  'url': 'https://www.yelp.com/biz/prince-street-pizza-new-york-2?adjust_creative=1RxQkF3EQG68WuoZ465BHw&utm_campaign=yelp_api_v3&utm_medium=api_v3_business_search&utm_source=1RxQkF3EQG68WuoZ465BHw',\n",
       "  'review_count': 4035,\n",
       "  'categories': [{'alias': 'pizza', 'title': 'Pizza'},\n",
       "   {'alias': 'italian', 'title': 'Italian'}],\n",
       "  'rating': 4.5,\n",
       "  'coordinates': {'latitude': 40.72308755605564,\n",
       "   'longitude': -73.99453001177575},\n",
       "  'transactions': ['pickup', 'delivery'],\n",
       "  'price': '$',\n",
       "  'location': {'address1': '27 Prince St',\n",
       "   'address2': None,\n",
       "   'address3': '',\n",
       "   'city': 'New York',\n",
       "   'zip_code': '10012',\n",
       "   'country': 'US',\n",
       "   'state': 'NY',\n",
       "   'display_address': ['27 Prince St', 'New York, NY 10012']},\n",
       "  'phone': '+12129664100',\n",
       "  'display_phone': '(212) 966-4100',\n",
       "  'distance': 1961.8771417367063},\n",
       " {'id': 'ysqgdbSrezXgVwER2kQWKA',\n",
       "  'alias': 'julianas-brooklyn-3',\n",
       "  'name': \"Juliana's\",\n",
       "  'image_url': 'https://s3-media2.fl.yelpcdn.com/bphoto/clscwgOF9_Ecq-Rwsq7jyQ/o.jpg',\n",
       "  'is_closed': False,\n",
       "  'url': 'https://www.yelp.com/biz/julianas-brooklyn-3?adjust_creative=1RxQkF3EQG68WuoZ465BHw&utm_campaign=yelp_api_v3&utm_medium=api_v3_business_search&utm_source=1RxQkF3EQG68WuoZ465BHw',\n",
       "  'review_count': 2352,\n",
       "  'categories': [{'alias': 'pizza', 'title': 'Pizza'}],\n",
       "  'rating': 4.5,\n",
       "  'coordinates': {'latitude': 40.70274718768062,\n",
       "   'longitude': -73.99343490196397},\n",
       "  'transactions': ['delivery'],\n",
       "  'price': '$$',\n",
       "  'location': {'address1': '19 Old Fulton St',\n",
       "   'address2': '',\n",
       "   'address3': '',\n",
       "   'city': 'Brooklyn',\n",
       "   'zip_code': '11201',\n",
       "   'country': 'US',\n",
       "   'state': 'NY',\n",
       "   'display_address': ['19 Old Fulton St', 'Brooklyn, NY 11201']},\n",
       "  'phone': '+17185966700',\n",
       "  'display_phone': '(718) 596-6700',\n",
       "  'distance': 308.56984360837544}]"
      ]
     },
     "execution_count": 3,
     "metadata": {},
     "output_type": "execute_result"
    }
   ],
   "source": [
    "# Replace None with appropriate code\n",
    "\n",
    "# Retrieve the value from response_json\n",
    "businesses = response_json['businesses']\n",
    "\n",
    "# View the first 2 records\n",
    "businesses[:2]"
   ]
  },
  {
   "cell_type": "markdown",
   "metadata": {},
   "source": [
    "### Preparing Data\n",
    "\n",
    "Write a function `prepare_data` that takes in a list of dictionaries like `businesses` and returns a copy that has been prepared for analysis:\n",
    "\n",
    "1. The `coordinates` key-value pair has been converted into two separate key-value pairs, `latitude` and `longitude`\n",
    "2. All other key-value pairs except for `name`, `review_count`, `rating`, and `price` have been dropped\n",
    "3. All dictionaries missing one of the relevant keys or containing null values have been dropped\n",
    "\n",
    "In other words, the final keys for each dictionary should be `name`, `review_count`, `rating`, `price`, `latitude`, and `longitude`.\n",
    "\n",
    "Complete the function in the cell below:"
   ]
  },
  {
   "cell_type": "code",
   "execution_count": 4,
   "metadata": {},
   "outputs": [
    {
     "data": {
      "text/plain": [
       "[{'name': 'Prince Street Pizza',\n",
       "  'review_count': 4035,\n",
       "  'rating': 4.5,\n",
       "  'price': '$',\n",
       "  'latitude': 40.72308755605564,\n",
       "  'longitude': -73.99453001177575},\n",
       " {'name': \"Juliana's\",\n",
       "  'review_count': 2352,\n",
       "  'rating': 4.5,\n",
       "  'price': '$$',\n",
       "  'latitude': 40.70274718768062,\n",
       "  'longitude': -73.99343490196397},\n",
       " {'name': 'Rubirosa',\n",
       "  'review_count': 2479,\n",
       "  'rating': 4.5,\n",
       "  'price': '$$',\n",
       "  'latitude': 40.722766,\n",
       "  'longitude': -73.996233},\n",
       " {'name': \"Lombardi's Pizza\",\n",
       "  'review_count': 6204,\n",
       "  'rating': 4.0,\n",
       "  'price': '$$',\n",
       "  'latitude': 40.7215934960083,\n",
       "  'longitude': -73.9955956044561},\n",
       " {'name': 'Lucali',\n",
       "  'review_count': 1728,\n",
       "  'rating': 4.0,\n",
       "  'price': '$$',\n",
       "  'latitude': 40.6818,\n",
       "  'longitude': -74.00024}]"
      ]
     },
     "execution_count": 4,
     "metadata": {},
     "output_type": "execute_result"
    }
   ],
   "source": [
    "# Replace None with appropriate code\n",
    "\n",
    "def prepare_data(data_list):\n",
    "    \"\"\"\n",
    "    This function takes in a list of dictionaries and prepares it\n",
    "    for analysis\n",
    "    \"\"\"\n",
    "    \n",
    "    # Make a new list to hold results\n",
    "    results = []\n",
    "    \n",
    "    for business_data in data_list:\n",
    "    \n",
    "        # Make a new dictionary to hold prepared data for this business\n",
    "        prepared_data = {}\n",
    "        \n",
    "        # Extract name, review_count, rating, and price key-value pairs\n",
    "        # from business_data and add to prepared_data\n",
    "        # If a key is not present in business_data, add it to prepared_data\n",
    "        # with an associated value of None\n",
    "        for key in ('name', 'review_count', 'rating', 'price'):\n",
    "            prepared_data[key] = business_data.get(key, None)\n",
    "    \n",
    "        # Parse and add latitude and longitude columns\n",
    "        prepared_data['latitude'] = business_data['coordinates']['latitude']\n",
    "        prepared_data['longitude'] = business_data['coordinates']['longitude']\n",
    "        \n",
    "        \n",
    "        # Add to list if all values are present\n",
    "        if all(prepared_data.values()):\n",
    "            results.append(prepared_data)\n",
    "    \n",
    "    return results\n",
    "    \n",
    "# Test out function\n",
    "prepared_businesses = prepare_data(businesses)\n",
    "prepared_businesses[:5]"
   ]
  },
  {
   "cell_type": "markdown",
   "metadata": {},
   "source": [
    "Check that your function created the correct keys:"
   ]
  },
  {
   "cell_type": "code",
   "execution_count": 5,
   "metadata": {},
   "outputs": [],
   "source": [
    "# Run this cell without changes\n",
    "\n",
    "assert sorted(list(prepared_businesses[0].keys())) == ['latitude', 'longitude', 'name', 'price', 'rating', 'review_count']"
   ]
  },
  {
   "cell_type": "markdown",
   "metadata": {},
   "source": [
    "The following code will differ depending on your query, but we expect there to be 20 businesses in the original list, and potentially fewer in the prepared list (if any of them were missing data):"
   ]
  },
  {
   "cell_type": "code",
   "execution_count": 6,
   "metadata": {},
   "outputs": [
    {
     "name": "stdout",
     "output_type": "stream",
     "text": [
      "Original: 20\n",
      "Prepared: 20\n"
     ]
    }
   ],
   "source": [
    "# Run this cell without changes\n",
    "print(\"Original:\", len(businesses))\n",
    "print(\"Prepared:\", len(prepared_businesses))"
   ]
  },
  {
   "cell_type": "markdown",
   "metadata": {},
   "source": [
    "Great! We will reuse this function once we have retrieved the full dataset."
   ]
  },
  {
   "cell_type": "markdown",
   "metadata": {},
   "source": [
    "## 2. Add Pagination\n",
    "\n",
    "Now that you are able to extract information from one page of the response, let's figure out how to request as many pages as possible.\n",
    "\n",
    "### Determining the Total\n",
    "\n",
    "Depending on the number of total results for your query, you will either retrieve all of the results, or just the first 1000 (if there are more than 1000 total).\n",
    "\n",
    "We can find the total number of results using the `\"total\"` key:"
   ]
  },
  {
   "cell_type": "code",
   "execution_count": 7,
   "metadata": {},
   "outputs": [
    {
     "data": {
      "text/plain": [
       "240"
      ]
     },
     "execution_count": 7,
     "metadata": {},
     "output_type": "execute_result"
    }
   ],
   "source": [
    "# Run this cell without changes\n",
    "response_json[\"total\"]"
   ]
  },
  {
   "cell_type": "markdown",
   "metadata": {},
   "source": [
    "(This is specific to the implementation of the Yelp API. Some APIs will just tell you that there are more pages, or will tell you the number of pages total, rather than the total number of results. If you're not sure, always check the documentation.)\n",
    "\n",
    "In the cell below, assign the variable `total` to either the value shown above (if it is less than 1000), or 1000."
   ]
  },
  {
   "cell_type": "code",
   "execution_count": 15,
   "metadata": {},
   "outputs": [],
   "source": [
    "# Replace None with appropriate code\n",
    "total = 240"
   ]
  },
  {
   "cell_type": "markdown",
   "metadata": {},
   "source": [
    "### Calculating the Offsets\n",
    "\n",
    "The documentation states in the parameters section:\n",
    "\n",
    "> **Name**: `limit`, **Type:** int, **Description:** Optional. Number of business results to return. By default, it will return 20. Maximum is 50.\n",
    "\n",
    "> **Name**: `offset`, **Type:** int, **Description:** Optional. Offset the list of returned business results by this amount.\n",
    "\n",
    "So, to get the most results with the fewest API calls we want to set a limit of 50 every time. If, say, we wanted to get 210 total results, that would mean:\n",
    "\n",
    "1. Offset of `0` (first 50 records)\n",
    "2. Offset of `50` (second 50 records)\n",
    "3. Offset of `100` (third 50 records)\n",
    "4. Offset of `150` (fourth 50 records)\n",
    "5. Offset of `200` (final 10 records)\n",
    "\n",
    "In the cell below, create a function `get_offsets` that takes in a total and returns a list of offsets for that total. You can assume that there is a limit of 50 every time.\n",
    "\n",
    "*Hint: you can use `range` ([documentation here](https://docs.python.org/3.3/library/stdtypes.html?highlight=range#range)) to do this in one line of code. Just make the returned result is a list.*"
   ]
  },
  {
   "cell_type": "code",
   "execution_count": 19,
   "metadata": {},
   "outputs": [
    {
     "data": {
      "text/plain": [
       "[0, 50, 100, 150, 200]"
      ]
     },
     "execution_count": 19,
     "metadata": {},
     "output_type": "execute_result"
    }
   ],
   "source": [
    "# Replace None with appropriate code\n",
    "def get_offsets(total):\n",
    "    \"\"\"\n",
    "    Get a list of offsets needed to get all pages\n",
    "    of data up until the total\n",
    "    \"\"\"\n",
    "    return list(range(0,total,50))\n",
    "get_offsets(total)"
   ]
  },
  {
   "cell_type": "markdown",
   "metadata": {},
   "source": [
    "Check that your function works below:"
   ]
  },
  {
   "cell_type": "code",
   "execution_count": 11,
   "metadata": {},
   "outputs": [],
   "source": [
    "# Run this cell without changes\n",
    "\n",
    "assert get_offsets(200) == [0, 50, 100, 150]\n",
    "assert get_offsets(210) == [0, 50, 100, 150, 200]"
   ]
  },
  {
   "cell_type": "markdown",
   "metadata": {},
   "source": [
    "### Putting It All Together\n",
    "\n",
    "Recall that the following variable has already been declared for you:"
   ]
  },
  {
   "cell_type": "code",
   "execution_count": 12,
   "metadata": {},
   "outputs": [
    {
     "data": {
      "text/plain": [
       "{'term': 'pizza', 'location': 'New+York+NY'}"
      ]
     },
     "execution_count": 12,
     "metadata": {},
     "output_type": "execute_result"
    }
   ],
   "source": [
    "# Run this cell without changes\n",
    "url_params"
   ]
  },
  {
   "cell_type": "markdown",
   "metadata": {},
   "source": [
    "We'll go ahead and also specify that the limit should be 50 every time:"
   ]
  },
  {
   "cell_type": "code",
   "execution_count": 20,
   "metadata": {},
   "outputs": [],
   "source": [
    "# Run this cell without changes\n",
    "url_params[\"limit\"] = 50"
   ]
  },
  {
   "cell_type": "markdown",
   "metadata": {},
   "source": [
    "In order to modify the offset, you'll need to add it to `url_params` with the key `\"offset\"` and whatever value is needed.\n",
    "\n",
    "In the cell below, write code that:\n",
    "\n",
    "* Creates an empty list for the full prepared dataset\n",
    "* Loops over all of the offsets from `get_offsets` and makes an API call each time with the specified offset\n",
    "* Calls `prepare_data` to get a cleaned version of the result of each API call\n",
    "* Extends the full prepared dataset list with each query's prepared dataset"
   ]
  },
  {
   "cell_type": "code",
   "execution_count": 32,
   "metadata": {},
   "outputs": [
    {
     "ename": "KeyError",
     "evalue": "'businesses'",
     "output_type": "error",
     "traceback": [
      "\u001b[0;31m---------------------------------------------------------------------------\u001b[0m",
      "\u001b[0;31mKeyError\u001b[0m                                  Traceback (most recent call last)",
      "\u001b[0;32m<ipython-input-32-dc277267d38c>\u001b[0m in \u001b[0;36m<module>\u001b[0;34m\u001b[0m\n\u001b[1;32m     17\u001b[0m \u001b[0;34m\u001b[0m\u001b[0m\n\u001b[1;32m     18\u001b[0m     \u001b[0;31m# Get the list of businesses from the response_json\u001b[0m\u001b[0;34m\u001b[0m\u001b[0;34m\u001b[0m\u001b[0;34m\u001b[0m\u001b[0m\n\u001b[0;32m---> 19\u001b[0;31m     \u001b[0mbusiness\u001b[0m \u001b[0;34m=\u001b[0m \u001b[0mresponse_json\u001b[0m\u001b[0;34m[\u001b[0m\u001b[0;34m\"businesses\"\u001b[0m\u001b[0;34m]\u001b[0m\u001b[0;34m\u001b[0m\u001b[0;34m\u001b[0m\u001b[0m\n\u001b[0m\u001b[1;32m     20\u001b[0m \u001b[0;34m\u001b[0m\u001b[0m\n\u001b[1;32m     21\u001b[0m     \u001b[0;31m# Call the prepare_data function to get a list of processed data\u001b[0m\u001b[0;34m\u001b[0m\u001b[0;34m\u001b[0m\u001b[0;34m\u001b[0m\u001b[0m\n",
      "\u001b[0;31mKeyError\u001b[0m: 'businesses'"
     ]
    }
   ],
   "source": [
    "# Replace None with appropriate code\n",
    "\n",
    "# Create an empty list for the full prepared dataset\n",
    "full_dataset = []\n",
    "\n",
    "for offset in get_offsets(total):\n",
    "    # Add or update the \"offset\" key-value pair in url_params\n",
    "    url_params['offset'] = offset\n",
    "    \n",
    "    # Make the query and get the response\n",
    "    response = requests.get(url, headers=headers, params=url_params)\n",
    "    \n",
    "    \n",
    "    \n",
    "    # Get the response body in JSON format\n",
    "    response_json = response.json()\n",
    "    \n",
    "    # Get the list of businesses from the response_json\n",
    "    businesses = response_json[\"businesses\"]\n",
    "    \n",
    "    # Call the prepare_data function to get a list of processed data\n",
    "    prepared_businesses = prepare_data(businesses)\n",
    "    \n",
    "    # Extend full_dataset with this list (don't append, or you'll get\n",
    "    # a list of lists instead of a flat list)\n",
    "    full_dataset.extend(prepared_businesses)\n",
    "\n",
    "# Check the length of the full dataset. It will be up to `total`,\n",
    "# potentially less if there were missing values\n",
    "len(full_dataset)"
   ]
  },
  {
   "cell_type": "markdown",
   "metadata": {},
   "source": [
    "This code may take up to a few minutes to run.\n",
    "\n",
    "If you get an error trying to get the response body in JSON format, try adding `time.sleep(1)` right after the `requests.get` line, so your code will sleep for 1 second between each API call."
   ]
  },
  {
   "cell_type": "markdown",
   "metadata": {},
   "source": [
    "## 3. Perform Exploratory Analysis\n",
    "\n",
    "Take the businesses from the previous question and do an initial exploratory analysis. We have provided some plots for you to interpret:"
   ]
  },
  {
   "cell_type": "code",
   "execution_count": 35,
   "metadata": {},
   "outputs": [
    {
     "data": {
      "image/png": "[encoded data removed]",
      "text/plain": [
       "<Figure size 1152x360 with 3 Axes>"
      ]
     },
     "metadata": {
      "needs_background": "light"
     },
     "output_type": "display_data"
    }
   ],
   "source": [
    "# Run this cell without changes\n",
    "from collections import Counter\n",
    "import matplotlib.pyplot as plt\n",
    "%matplotlib inline\n",
    "\n",
    "fig, (ax1, ax2, ax3) = plt.subplots(ncols=3, figsize=(16, 5))\n",
    "\n",
    "# Plot distribution of number of reviews\n",
    "all_review_counts = [x[\"review_count\"] for x in full_dataset]\n",
    "ax1.hist(all_review_counts)\n",
    "ax1.set_title(\"Review Count Distribution\")\n",
    "ax1.set_xlabel(\"Number of Reviews\")\n",
    "ax1.set_ylabel(\"Number of Businesses\")\n",
    "\n",
    "# Plot rating distribution\n",
    "all_ratings = [x[\"rating\"] for x in full_dataset]\n",
    "rating_counter = Counter(all_ratings)\n",
    "rating_keys = sorted(rating_counter.keys())\n",
    "ax2.bar(rating_keys, [rating_counter[key] for key in rating_keys])\n",
    "ax2.set_title(\"Rating Distribution\")\n",
    "ax2.set_xlabel(\"Rating\")\n",
    "ax2.set_ylabel(\"Number of Businesses\")\n",
    "\n",
    "# Plot price distribution\n",
    "all_prices = [x[\"price\"].replace(\"$\", r\"\\$\") for x in full_dataset]\n",
    "price_counter = Counter(all_prices)\n",
    "price_keys = sorted(price_counter.keys())\n",
    "ax3.bar(price_keys, [price_counter[key] for key in price_keys])\n",
    "ax3.set_title(\"Price Distribution\")\n",
    "ax3.set_xlabel(\"Price Category\")\n",
    "ax3.set_ylabel(\"Number of Businesses\");"
   ]
  },
  {
   "cell_type": "markdown",
   "metadata": {},
   "source": [
    "Describe the distributions displayed above and interpret them in the context of your query. (Your answer may differ from the solution branch depending on your query.)"
   ]
  },
  {
   "cell_type": "code",
   "execution_count": null,
   "metadata": {},
   "outputs": [],
   "source": [
    "# Replace None with appropriate text\n",
    "\"\"\"\n",
    "Most pizza places in New York, NY receive less than 1000 reviews,\n",
    "with almost all ratings being between 3 and 5. Pizza is mostly a $$ venture,\n",
    "with a fair amount of $ and almost no $$$. \n",
    "\"\"\""
   ]
  },
  {
   "cell_type": "markdown",
   "metadata": {},
   "source": [
    "In the cell below, we also plot the rating distributions by price. In this setup, a price of one dollar sign is \"lower price\" and everything else is \"higher price\"."
   ]
  },
  {
   "cell_type": "code",
   "execution_count": 36,
   "metadata": {},
   "outputs": [
    {
     "data": {
      "image/png": "[encoded data removed]",
      "text/plain": [
       "<Figure size 432x288 with 1 Axes>"
      ]
     },
     "metadata": {
      "needs_background": "light"
     },
     "output_type": "display_data"
    }
   ],
   "source": [
    "# Run this cell without changes\n",
    "\n",
    "higher_price = []\n",
    "lower_price = []\n",
    "for row in full_dataset:\n",
    "    if row[\"price\"] == \"$\":\n",
    "        lower_price.append(row[\"rating\"])\n",
    "    else:\n",
    "        higher_price.append(row[\"rating\"])\n",
    "        \n",
    "fig, ax = plt.subplots()\n",
    "\n",
    "ax.hist([higher_price, lower_price], label=[\"higher price\", \"lower price\"], density=True)\n",
    "\n",
    "ax.legend();"
   ]
  },
  {
   "cell_type": "markdown",
   "metadata": {},
   "source": [
    "Is a higher price associated with a higher rating? (No need for any additional math/statistics, just interpret what you see in the plot.)"
   ]
  },
  {
   "cell_type": "code",
   "execution_count": null,
   "metadata": {},
   "outputs": [],
   "source": [
    "# Replace None with appropriate text\n",
    "\"\"\"\n",
    "No, Higher priced places tend to be more central, and while lower priced pizza\n",
    "places have a larger range of rating, they are more likely to have the highest ratings. \n",
    "\"\"\""
   ]
  },
  {
   "cell_type": "markdown",
   "metadata": {},
   "source": [
    "Finally, let's look at ratings vs. review counts:"
   ]
  },
  {
   "cell_type": "code",
   "execution_count": 37,
   "metadata": {},
   "outputs": [
    {
     "data": {
      "image/png": "[encoded data removed]",
      "text/plain": [
       "<Figure size 1152x360 with 1 Axes>"
      ]
     },
     "metadata": {
      "needs_background": "light"
     },
     "output_type": "display_data"
    }
   ],
   "source": [
    "# Run this cell without changes\n",
    "fig, ax = plt.subplots(figsize=(16,5))\n",
    "\n",
    "ax.scatter(all_review_counts, all_ratings, alpha=0.2)\n",
    "ax.set_xlabel(\"Number of Reviews\")\n",
    "ax.set_ylabel(\"Rating\")\n",
    "# \"zoom in\" to a subset of review counts\n",
    "ax.set_xlim(left=0, right=1000);"
   ]
  },
  {
   "cell_type": "markdown",
   "metadata": {},
   "source": [
    "Is a higher number of reviews associated with a higher rating?"
   ]
  },
  {
   "cell_type": "code",
   "execution_count": null,
   "metadata": {},
   "outputs": [],
   "source": [
    "# Replace None with appropriate text\n",
    "\"\"\"\n",
    "It seems that a higher number of reviews tends to bring ratings\n",
    "toward the average of all ratings. It is not clear that a higher number of reviews\n",
    "gives a better rating. \n",
    "\"\"\""
   ]
  },
  {
   "cell_type": "markdown",
   "metadata": {},
   "source": [
    "## 4. Create a Folium Map\n",
    "\n",
    "Make a map using Folium of the businesses you retrieved. Be sure to also add popups to the markers giving some basic information such as name, rating and price.\n",
    "\n",
    "You can center the map around the latitude and longitude of the first item in `full_dataset`."
   ]
  },
  {
   "cell_type": "code",
   "execution_count": 34,
   "metadata": {},
   "outputs": [
    {
     "data": {
      "text/html": [
       "<div style=\"width:100%;\"><div style=\"position:relative;width:100%;height:0;padding-bottom:60%;\"><span style=\"color:#565656\">Make this Notebook Trusted to load map: File -> Trust Notebook</span><iframe src=\"about:blank\" style=\"position:absolute;width:100%;height:100%;left:0;top:0;border:none !important;\" data-html=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 onload=\"this.contentDocument.open();this.contentDocument.write(atob(this.getAttribute('data-html')));this.contentDocument.close();\" allowfullscreen webkitallowfullscreen mozallowfullscreen></iframe></div></div>"
      ],
      "text/plain": [
       "<folium.folium.Map at 0x7ffe8b37e2e0>"
      ]
     },
     "execution_count": 34,
     "metadata": {},
     "output_type": "execute_result"
    }
   ],
   "source": [
    "# Replace None with appropriate code\n",
    "\n",
    "# Import the library\n",
    "import folium\n",
    "\n",
    "# Set up center latitude and longitude\n",
    "center_lat = full_dataset[0]['latitude']\n",
    "center_long = full_dataset[0]['longitude']\n",
    "\n",
    "# Initialize map with center lat and long\n",
    "yelp_map = folium.Map([center_lat, center_long], zoomstart = 13)\n",
    "\n",
    "# Adjust this limit to see more or fewer businesses\n",
    "limit=100\n",
    "\n",
    "for business in full_dataset[:limit]:\n",
    "    # Extract information about business\n",
    "    lat = business['latitude']\n",
    "    long = business['longitude']\n",
    "    name = business['name']\n",
    "    rating = business['rating']\n",
    "    price = business['price']\n",
    "    details = \"{}\\nPrice: {} Rating:{}\".format(name,price,rating)\n",
    "    \n",
    "    # Create popup with relevant details\n",
    "    popup = folium.Popup(details)\n",
    "    \n",
    "    # Create marker with relevant lat/long and popup\n",
    "    marker = folium.Marker([lat, long], popup = popup)\n",
    "    \n",
    "    marker.add_to(yelp_map)\n",
    "    \n",
    "yelp_map"
   ]
  },
  {
   "cell_type": "markdown",
   "metadata": {},
   "source": [
    "## Summary\n",
    "\n",
    "Nice work! In this lab, you've made multiple API calls to Yelp in order to paginate through a results set, performing some basic exploratory analysis and then creating a nice interactive map to display the results using Folium! Well done!"
   ]
  }
 ],
 "metadata": {
  "kernelspec": {
   "display_name": "Python 3",
   "language": "python",
   "name": "python3"
  },
  "language_info": {
   "codemirror_mode": {
    "name": "ipython",
    "version": 3
   },
   "file_extension": ".py",
   "mimetype": "text/x-python",
   "name": "python",
   "nbconvert_exporter": "python",
   "pygments_lexer": "ipython3",
   "version": "3.8.5"
  },
  "toc": {
   "base_numbering": 1,
   "nav_menu": {},
   "number_sections": true,
   "sideBar": true,
   "skip_h1_title": false,
   "title_cell": "Table of Contents",
   "title_sidebar": "Contents",
   "toc_cell": false,
   "toc_position": {},
   "toc_section_display": true,
   "toc_window_display": false
  }
 },
 "nbformat": 4,
 "nbformat_minor": 2
}
